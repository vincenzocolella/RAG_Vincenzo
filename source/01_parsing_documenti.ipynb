{
 "cells": [
  {
   "cell_type": "code",
   "execution_count": 1,
   "id": "644a35f3",
   "metadata": {},
   "outputs": [
    {
     "name": "stderr",
     "output_type": "stream",
     "text": [
      "Parsing documenti: 100%|██████████| 11/11 [00:01<00:00,  6.53it/s]"
     ]
    },
    {
     "name": "stdout",
     "output_type": "stream",
     "text": [
      "Totale documenti estratti: 8\n"
     ]
    },
    {
     "name": "stderr",
     "output_type": "stream",
     "text": [
      "\n"
     ]
    }
   ],
   "source": [
    "import os\n",
    "import fitz  # PyMuPDF\n",
    "from docx import Document\n",
    "from tqdm import tqdm\n",
    "import re\n",
    "\n",
    "# === PARAMETRI ===\n",
    "CARTELLA_DOCUMENTI = \"./documents_for_training\"\n",
    "\n",
    "# === FUNZIONE: Pulizia testo ===\n",
    "def pulisci_testo(testo):\n",
    "    testo = re.sub(r'\\n{2,}', '\\n', testo)  # Rimuove righe vuote multiple\n",
    "    testo = re.sub(r'[ \\t]+', ' ', testo)   # Spazi o tab ripetuti\n",
    "    testo = testo.strip()\n",
    "    return testo\n",
    "\n",
    "# === FUNZIONE: Parsing PDF ===\n",
    "def estrai_testo_pdf(path):\n",
    "    testo = \"\"\n",
    "    try:\n",
    "        with fitz.open(path) as doc:\n",
    "            for pagina in doc:\n",
    "                testo += pagina.get_text()\n",
    "    except Exception as e:\n",
    "        print(f\"Errore PDF {path}: {e}\")\n",
    "    return pulisci_testo(testo)\n",
    "\n",
    "# === FUNZIONE: Parsing DOCX ===\n",
    "def estrai_testo_docx(path):\n",
    "    testo = \"\"\n",
    "    try:\n",
    "        doc = Document(path)\n",
    "        for par in doc.paragraphs:\n",
    "            testo += par.text + \"\\n\"\n",
    "    except Exception as e:\n",
    "        print(f\"Errore DOCX {path}: {e}\")\n",
    "    return pulisci_testo(testo)\n",
    "\n",
    "# === MAIN: Scansione della cartella ===\n",
    "documenti = {}  # filename → testo\n",
    "\n",
    "for root, _, files in os.walk(CARTELLA_DOCUMENTI):\n",
    "    for nome_file in tqdm(files, desc=\"Parsing documenti\"):\n",
    "        percorso = os.path.join(root, nome_file)\n",
    "        estensione = nome_file.lower().split(\".\")[-1]\n",
    "\n",
    "        if estensione == \"pdf\":\n",
    "            testo = estrai_testo_pdf(percorso)\n",
    "        elif estensione == \"docx\":\n",
    "            testo = estrai_testo_docx(percorso)\n",
    "        else:\n",
    "            continue  # ignora altri formati\n",
    "\n",
    "        if len(testo) > 100:  # ignora file troppo corti\n",
    "            documenti[nome_file] = testo\n",
    "\n",
    "print(f\"Totale documenti estratti: {len(documenti)}\")\n",
    "\n",
    "# === OPTIONAL: Salva in file json per debug ===\n",
    "import json\n",
    "with open(\"documenti_puliti.json\", \"w\", encoding=\"utf-8\") as f:\n",
    "    json.dump(documenti, f, indent=2, ensure_ascii=False)\n"
   ]
  },
  {
   "cell_type": "code",
   "execution_count": null,
   "id": "c2a9b649",
   "metadata": {},
   "outputs": [
    {
     "ename": "MalformedError",
     "evalue": "Service account info was not in the expected format, missing fields client_email, token_uri.",
     "output_type": "error",
     "traceback": [
      "\u001b[31m---------------------------------------------------------------------------\u001b[39m",
      "\u001b[31mMalformedError\u001b[39m                            Traceback (most recent call last)",
      "\u001b[36mCell\u001b[39m\u001b[36m \u001b[39m\u001b[32mIn[3]\u001b[39m\u001b[32m, line 8\u001b[39m\n\u001b[32m      5\u001b[39m SCOPES = [\u001b[33m'\u001b[39m\u001b[33mhttps://www.googleapis.com/auth/calendar.readonly\u001b[39m\u001b[33m'\u001b[39m]\n\u001b[32m      6\u001b[39m SERVICE_ACCOUNT_FILE = \u001b[33m'\u001b[39m\u001b[33mcredentials_google.json\u001b[39m\u001b[33m'\u001b[39m  \u001b[38;5;66;03m# tuo file di credenziali\u001b[39;00m\n\u001b[32m----> \u001b[39m\u001b[32m8\u001b[39m credentials = \u001b[43mservice_account\u001b[49m\u001b[43m.\u001b[49m\u001b[43mCredentials\u001b[49m\u001b[43m.\u001b[49m\u001b[43mfrom_service_account_file\u001b[49m\u001b[43m(\u001b[49m\n\u001b[32m      9\u001b[39m \u001b[43m    \u001b[49m\u001b[43mSERVICE_ACCOUNT_FILE\u001b[49m\u001b[43m,\u001b[49m\u001b[43m \u001b[49m\u001b[43mscopes\u001b[49m\u001b[43m=\u001b[49m\u001b[43mSCOPES\u001b[49m\u001b[43m)\u001b[49m\n\u001b[32m     11\u001b[39m service = build(\u001b[33m'\u001b[39m\u001b[33mcalendar\u001b[39m\u001b[33m'\u001b[39m, \u001b[33m'\u001b[39m\u001b[33mv3\u001b[39m\u001b[33m'\u001b[39m, credentials=credentials)\n\u001b[32m     13\u001b[39m now = datetime.datetime.utcnow().isoformat() + \u001b[33m'\u001b[39m\u001b[33mZ\u001b[39m\u001b[33m'\u001b[39m  \u001b[38;5;66;03m# tempo UTC ISO\u001b[39;00m\n",
      "\u001b[36mFile \u001b[39m\u001b[32mc:\\Users\\VincenzoColella\\Documents\\GitHub\\RAG_Vincenzo\\.venv\\Lib\\site-packages\\google\\oauth2\\service_account.py:260\u001b[39m, in \u001b[36mCredentials.from_service_account_file\u001b[39m\u001b[34m(cls, filename, **kwargs)\u001b[39m\n\u001b[32m    248\u001b[39m \u001b[38;5;129m@classmethod\u001b[39m\n\u001b[32m    249\u001b[39m \u001b[38;5;28;01mdef\u001b[39;00m\u001b[38;5;250m \u001b[39m\u001b[34mfrom_service_account_file\u001b[39m(\u001b[38;5;28mcls\u001b[39m, filename, **kwargs):\n\u001b[32m    250\u001b[39m \u001b[38;5;250m    \u001b[39m\u001b[33;03m\"\"\"Creates a Credentials instance from a service account json file.\u001b[39;00m\n\u001b[32m    251\u001b[39m \n\u001b[32m    252\u001b[39m \u001b[33;03m    Args:\u001b[39;00m\n\u001b[32m   (...)\u001b[39m\u001b[32m    258\u001b[39m \u001b[33;03m            credentials.\u001b[39;00m\n\u001b[32m    259\u001b[39m \u001b[33;03m    \"\"\"\u001b[39;00m\n\u001b[32m--> \u001b[39m\u001b[32m260\u001b[39m     info, signer = \u001b[43m_service_account_info\u001b[49m\u001b[43m.\u001b[49m\u001b[43mfrom_filename\u001b[49m\u001b[43m(\u001b[49m\n\u001b[32m    261\u001b[39m \u001b[43m        \u001b[49m\u001b[43mfilename\u001b[49m\u001b[43m,\u001b[49m\u001b[43m \u001b[49m\u001b[43mrequire\u001b[49m\u001b[43m=\u001b[49m\u001b[43m[\u001b[49m\u001b[33;43m\"\u001b[39;49m\u001b[33;43mclient_email\u001b[39;49m\u001b[33;43m\"\u001b[39;49m\u001b[43m,\u001b[49m\u001b[43m \u001b[49m\u001b[33;43m\"\u001b[39;49m\u001b[33;43mtoken_uri\u001b[39;49m\u001b[33;43m\"\u001b[39;49m\u001b[43m]\u001b[49m\n\u001b[32m    262\u001b[39m \u001b[43m    \u001b[49m\u001b[43m)\u001b[49m\n\u001b[32m    263\u001b[39m     \u001b[38;5;28;01mreturn\u001b[39;00m \u001b[38;5;28mcls\u001b[39m._from_signer_and_info(signer, info, **kwargs)\n",
      "\u001b[36mFile \u001b[39m\u001b[32mc:\\Users\\VincenzoColella\\Documents\\GitHub\\RAG_Vincenzo\\.venv\\Lib\\site-packages\\google\\auth\\_service_account_info.py:80\u001b[39m, in \u001b[36mfrom_filename\u001b[39m\u001b[34m(filename, require, use_rsa_signer)\u001b[39m\n\u001b[32m     78\u001b[39m \u001b[38;5;28;01mwith\u001b[39;00m io.open(filename, \u001b[33m\"\u001b[39m\u001b[33mr\u001b[39m\u001b[33m\"\u001b[39m, encoding=\u001b[33m\"\u001b[39m\u001b[33mutf-8\u001b[39m\u001b[33m\"\u001b[39m) \u001b[38;5;28;01mas\u001b[39;00m json_file:\n\u001b[32m     79\u001b[39m     data = json.load(json_file)\n\u001b[32m---> \u001b[39m\u001b[32m80\u001b[39m     \u001b[38;5;28;01mreturn\u001b[39;00m data, \u001b[43mfrom_dict\u001b[49m\u001b[43m(\u001b[49m\u001b[43mdata\u001b[49m\u001b[43m,\u001b[49m\u001b[43m \u001b[49m\u001b[43mrequire\u001b[49m\u001b[43m=\u001b[49m\u001b[43mrequire\u001b[49m\u001b[43m,\u001b[49m\u001b[43m \u001b[49m\u001b[43muse_rsa_signer\u001b[49m\u001b[43m=\u001b[49m\u001b[43muse_rsa_signer\u001b[49m\u001b[43m)\u001b[49m\n",
      "\u001b[36mFile \u001b[39m\u001b[32mc:\\Users\\VincenzoColella\\Documents\\GitHub\\RAG_Vincenzo\\.venv\\Lib\\site-packages\\google\\auth\\_service_account_info.py:50\u001b[39m, in \u001b[36mfrom_dict\u001b[39m\u001b[34m(data, require, use_rsa_signer)\u001b[39m\n\u001b[32m     47\u001b[39m missing = keys_needed.difference(data.keys())\n\u001b[32m     49\u001b[39m \u001b[38;5;28;01mif\u001b[39;00m missing:\n\u001b[32m---> \u001b[39m\u001b[32m50\u001b[39m     \u001b[38;5;28;01mraise\u001b[39;00m exceptions.MalformedError(\n\u001b[32m     51\u001b[39m         \u001b[33m\"\u001b[39m\u001b[33mService account info was not in the expected format, missing \u001b[39m\u001b[33m\"\u001b[39m\n\u001b[32m     52\u001b[39m         \u001b[33m\"\u001b[39m\u001b[33mfields \u001b[39m\u001b[38;5;132;01m{}\u001b[39;00m\u001b[33m.\u001b[39m\u001b[33m\"\u001b[39m.format(\u001b[33m\"\u001b[39m\u001b[33m, \u001b[39m\u001b[33m\"\u001b[39m.join(missing))\n\u001b[32m     53\u001b[39m     )\n\u001b[32m     55\u001b[39m \u001b[38;5;66;03m# Create a signer.\u001b[39;00m\n\u001b[32m     56\u001b[39m \u001b[38;5;28;01mif\u001b[39;00m use_rsa_signer:\n",
      "\u001b[31mMalformedError\u001b[39m: Service account info was not in the expected format, missing fields client_email, token_uri."
     ]
    }
   ],
   "source": [
    "from google.oauth2 import service_account\n",
    "from googleapiclient.discovery import build\n",
    "import datetime\n",
    "\n",
    "SCOPES = ['https://www.googleapis.com/auth/calendar.readonly']\n",
    "SERVICE_ACCOUNT_FILE = 'credentials_google.json'  # tuo file di credenziali\n",
    "\n",
    "credentials = service_account.Credentials.from_service_account_file(\n",
    "    SERVICE_ACCOUNT_FILE, scopes=SCOPES)\n",
    "\n",
    "service = build('calendar', 'v3', credentials=credentials)\n",
    "\n",
    "now = datetime.datetime.utcnow().isoformat() + 'Z'  # tempo UTC ISO\n",
    "events_result = service.events().list(calendarId='primary', timeMin=now,\n",
    "                                      maxResults=50, singleEvents=True,\n",
    "                                      orderBy='startTime').execute()\n",
    "events = events_result.get('items', [])\n",
    "\n",
    "testo_eventi = \"\"\n",
    "for event in events:\n",
    "    start = event['start'].get('dateTime', event['start'].get('date'))\n",
    "    summary = event.get('summary', 'No title')\n",
    "    descr = event.get('description', '')\n",
    "    testo_eventi += f\"{start} - {summary}\\n{descr}\\n\\n\"\n",
    "\n",
    "print(testo_eventi)\n"
   ]
  }
 ],
 "metadata": {
  "kernelspec": {
   "display_name": ".venv",
   "language": "python",
   "name": "python3"
  },
  "language_info": {
   "codemirror_mode": {
    "name": "ipython",
    "version": 3
   },
   "file_extension": ".py",
   "mimetype": "text/x-python",
   "name": "python",
   "nbconvert_exporter": "python",
   "pygments_lexer": "ipython3",
   "version": "3.11.9"
  }
 },
 "nbformat": 4,
 "nbformat_minor": 5
}
